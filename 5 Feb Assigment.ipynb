{
 "cells": [
  {
   "cell_type": "code",
   "execution_count": null,
   "id": "c12b41a6-f936-465d-b2ff-e7722beb3d2e",
   "metadata": {},
   "outputs": [],
   "source": [
    "Q1. Explain Class and Object with respect to Object-Oriented Programming. Give a suitable example.\n",
    "Ans.\n",
    "A class is a user-defined layout or blueprint of an object that describes what a specific kind of object will lool like.\n",
    "An object is a single instance of a class, which contains data and methods working on that data.\n",
    "class pwskill:\n",
    "    def __init__(self,phone_no,email_no,student_id):\n",
    "        self.phone_no = phone_no\n",
    "        self.email_no = email_no\n",
    "        self.student_no = student_id\n",
    "    def student_details(self):\n",
    "        return self.email_no,self.email_no,self.student_no\n",
    "rohan=pwskill(9894857389,'rohan3452@gmailcom',101)\n",
    "print(rohan)\n",
    "print(rohan.phone_no)\n",
    "\n",
    "\n",
    "Q2. Name the four pillars of OOPs.\n",
    "Ans.\n",
    "1. Abstraction\n",
    "2. Encapsulation\n",
    "3. Inheritance\n",
    "4. Polymorphism\n",
    "\n",
    "\n",
    "Q3. Explain why the __init__() function is used. Give a suitable example.\n",
    "Ans.\n",
    "\n",
    "__init__ is a special python method that runs whenever a new object is created. These types of functions are used to initilize\n",
    "the attributes of that class.\n",
    "class Person:\n",
    "    def __int__(self,name,age):\n",
    "        self.name= name\n",
    "        self.age = age\n",
    "p1=Person('Rohit',20)\n",
    "print(p1.name)\n",
    "print(p1.age)\n",
    "\n",
    "        \n",
    "Q4. Why self is used in OOPs?\n",
    "Ans.\n",
    "The self variable is used to represent the instance of the class which is often used in object-oriented programming. It works as a\n",
    "reference to the object. Python usere the self parameter to refer to instance attributes ond methods of the class.\n",
    "\n",
    "Q5. What is inheritance? Give an example for each type of inheritance.\n",
    "Ans.\n"
   ]
  }
 ],
 "metadata": {
  "kernelspec": {
   "display_name": "Python 3 (ipykernel)",
   "language": "python",
   "name": "python3"
  },
  "language_info": {
   "codemirror_mode": {
    "name": "ipython",
    "version": 3
   },
   "file_extension": ".py",
   "mimetype": "text/x-python",
   "name": "python",
   "nbconvert_exporter": "python",
   "pygments_lexer": "ipython3",
   "version": "3.10.8"
  }
 },
 "nbformat": 4,
 "nbformat_minor": 5
}
